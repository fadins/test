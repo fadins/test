{
 "cells": [
  {
   "cell_type": "code",
   "execution_count": 11,
   "metadata": {},
   "outputs": [
    {
     "name": "stdout",
     "output_type": "stream",
     "text": [
      "2\n",
      "1\n",
      "2\n",
      "1 2 2\n"
     ]
    }
   ],
   "source": [
    "def func(a,b):\n",
    "    if a >= b:\n",
    "        return 1\n",
    "    return 0\n",
    "\n",
    "\n",
    "a = int(input())\n",
    "b = int(input())\n",
    "c = int(input())\n",
    "\n",
    "if func(a,b) == 1:\n",
    "    if func(b,c) == 1:\n",
    "        d,e,f = c,b,a\n",
    "        \n",
    "        \n",
    "if func(b,a) == 1:\n",
    "    if func(a,c) == 1:\n",
    "        d,e,f = c,a,b\n",
    "        \n",
    "        \n",
    "if func(b,c) == 1:\n",
    "    if func(c,a) == 1:\n",
    "        d,e,f = a,c,b\n",
    "        \n",
    "        \n",
    "if func(c,b) == 1:\n",
    "    if func(b,a) == 1:\n",
    "        d,e,f = a,b,c\n",
    "        \n",
    "        \n",
    "if func(c,a) == 1:\n",
    "    if func(a,b) == 1:\n",
    "        d,e,f = b,a,c\n",
    "        \n",
    "        \n",
    "        \n",
    "if func(a,c) == 1:\n",
    "    if func(c,b) == 1:\n",
    "        d,e,f = b,c,a\n",
    "        \n",
    "print(d,e,f)\n",
    "        \n",
    "        \n",
    "        \n",
    "        \n",
    "        \n",
    "        \n",
    "        \n",
    "        \n",
    "        \n",
    "        \n",
    "        \n",
    "        \n",
    "        \n",
    "        \n",
    "        "
   ]
  },
  {
   "cell_type": "code",
   "execution_count": null,
   "metadata": {},
   "outputs": [],
   "source": [
    "\n",
    "        \n",
    "if func(a,b) > func(a,c):\n",
    "    print(b, a, c)\n",
    "\n",
    "if func(a,b) < func(a,c):\n",
    "    print(c, a, b)\n",
    "\n",
    "if func(b,a) > func(b,c):\n",
    "    print(a, b, c)\n",
    "\n",
    "if func(c,a) > func(c,b):\n",
    "    print(a, c, b)\n",
    "\n",
    "if func(a,b) > func(c,b):\n",
    "    print(c, b, a)\n",
    "    \n",
    "if func(a,c) > func(b,c):\n",
    "    print(b, c, a)\n",
    "\n"
   ]
  }
 ],
 "metadata": {
  "kernelspec": {
   "display_name": "Python 3",
   "language": "python",
   "name": "python3"
  },
  "language_info": {
   "codemirror_mode": {
    "name": "ipython",
    "version": 3
   },
   "file_extension": ".py",
   "mimetype": "text/x-python",
   "name": "python",
   "nbconvert_exporter": "python",
   "pygments_lexer": "ipython3",
   "version": "3.6.5"
  }
 },
 "nbformat": 4,
 "nbformat_minor": 2
}
