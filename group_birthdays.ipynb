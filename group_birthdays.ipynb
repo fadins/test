{
 "cells": [
  {
   "cell_type": "code",
   "execution_count": 2,
   "metadata": {
    "scrolled": true
   },
   "outputs": [
    {
     "name": "stdout",
     "output_type": "stream",
     "text": [
      "Collecting pip\n",
      "  Using cached https://files.pythonhosted.org/packages/c2/d7/90f34cb0d83a6c5631cf71dfe64cc1054598c843a92b400e55675cc2ac37/pip-18.1-py2.py3-none-any.whl\n",
      "Installing collected packages: pip\n",
      "  Found existing installation: pip 10.0.1\n",
      "    Uninstalling pip-10.0.1:\n"
     ]
    },
    {
     "name": "stderr",
     "output_type": "stream",
     "text": [
      "distributed 1.21.8 requires msgpack, which is not installed.\n",
      "Could not install packages due to an EnvironmentError: [WinError 5] Отказано в доступе: 'c:\\\\programdata\\\\anaconda3\\\\lib\\\\site-packages\\\\pip\\\\_internal\\\\basecommand.py'\n",
      "Consider using the `--user` option or check the permissions.\n",
      "\n",
      "You are using pip version 10.0.1, however version 18.1 is available.\n",
      "You should consider upgrading via the 'python -m pip install --upgrade pip' command.\n"
     ]
    },
    {
     "name": "stdout",
     "output_type": "stream",
     "text": [
      "Requirement already satisfied: vk_api in c:\\programdata\\anaconda3\\lib\\site-packages (11.2.1)\n",
      "Requirement already satisfied: six in c:\\programdata\\anaconda3\\lib\\site-packages (from vk_api) (1.11.0)\n",
      "Requirement already satisfied: requests in c:\\programdata\\anaconda3\\lib\\site-packages (from vk_api) (2.18.4)\n",
      "Requirement already satisfied: enum34 in c:\\programdata\\anaconda3\\lib\\site-packages (from vk_api) (1.1.6)\n",
      "Requirement already satisfied: chardet<3.1.0,>=3.0.2 in c:\\programdata\\anaconda3\\lib\\site-packages (from requests->vk_api) (3.0.4)\n",
      "Requirement already satisfied: idna<2.7,>=2.5 in c:\\programdata\\anaconda3\\lib\\site-packages (from requests->vk_api) (2.6)\n",
      "Requirement already satisfied: urllib3<1.23,>=1.21.1 in c:\\programdata\\anaconda3\\lib\\site-packages (from requests->vk_api) (1.22)\n",
      "Requirement already satisfied: certifi>=2017.4.17 in c:\\programdata\\anaconda3\\lib\\site-packages (from requests->vk_api) (2018.4.16)\n"
     ]
    },
    {
     "name": "stderr",
     "output_type": "stream",
     "text": [
      "distributed 1.21.8 requires msgpack, which is not installed.\n",
      "You are using pip version 10.0.1, however version 18.1 is available.\n",
      "You should consider upgrading via the 'python -m pip install --upgrade pip' command.\n"
     ]
    }
   ],
   "source": [
    "!python -m pip install --upgrade pip\n",
    "!pip install vk_api"
   ]
  },
  {
   "cell_type": "code",
   "execution_count": null,
   "metadata": {},
   "outputs": [],
   "source": [
    "kek"
   ]
  },
  {
   "cell_type": "code",
   "execution_count": 1,
   "metadata": {},
   "outputs": [
    {
     "ename": "NameError",
     "evalue": "name 'kek' is not defined",
     "output_type": "error",
     "traceback": [
      "\u001b[1;31m---------------------------------------------------------------------------\u001b[0m",
      "\u001b[1;31mNameError\u001b[0m                                 Traceback (most recent call last)",
      "\u001b[1;32m<ipython-input-1-956f7fd1ae68>\u001b[0m in \u001b[0;36m<module>\u001b[1;34m()\u001b[0m\n\u001b[1;32m----> 1\u001b[1;33m \u001b[0mkek\u001b[0m\u001b[1;33m\u001b[0m\u001b[0m\n\u001b[0m",
      "\u001b[1;31mNameError\u001b[0m: name 'kek' is not defined"
     ]
    }
   ],
   "source": [
    "kek"
   ]
  },
  {
   "cell_type": "code",
   "execution_count": 2,
   "metadata": {},
   "outputs": [],
   "source": [
    "import vk_api\n",
    "import datetime\n",
    "%matplotlib inline"
   ]
  },
  {
   "cell_type": "code",
   "execution_count": 3,
   "metadata": {},
   "outputs": [],
   "source": [
    "access_token = 'ae8862c330e23a109f2df248db2a19dc6ef847b83ce344dab5b5e4ba0ef5cf11323c670de458ca85b3352'\n",
    "access_token_crisis = '1bbdf00de58e195316a09a93d1b14b77929a05749f5f434086626c595b830ebce5740a5b953f2759414ac'\n",
    "user_id = 'crisis_hookah'\n",
    "app_id = '6602645'\n",
    "user_id_crisis = 56473552"
   ]
  },
  {
   "cell_type": "code",
   "execution_count": 4,
   "metadata": {},
   "outputs": [],
   "source": [
    "vk_session = vk_api.VkApi(app_id = app_id, token = access_token_crisis, api_version=5.80)\n",
    "vk = vk_session.get_api()\n",
    "vk_session1 = vk_api.VkApi(app_id = app_id, token = access_token, api_version=5.80)\n",
    "vk1 = vk_session1.get_api()"
   ]
  },
  {
   "cell_type": "code",
   "execution_count": 5,
   "metadata": {},
   "outputs": [
    {
     "name": "stdout",
     "output_type": "stream",
     "text": [
      "в группе  2215 пользователей\n"
     ]
    }
   ],
   "source": [
    "my_friends = []\n",
    "count = vk.groups.getMembers(group_id = user_id_crisis, offset=1000)['count']\n",
    "for i in range(count//1000+1):\n",
    "    my_friends = my_friends + vk.groups.getMembers(group_id = user_id_crisis, offset=i*1000)['users']\n",
    "print(\"в группе \", count, 'пользователей')"
   ]
  },
  {
   "cell_type": "code",
   "execution_count": 6,
   "metadata": {},
   "outputs": [],
   "source": [
    "my_friends_birthdays = []\n",
    "for user in my_friends:\n",
    "    my_friends_birthdays = my_friends_birthdays + vk.users.get(user_id = user, fields='bdate')"
   ]
  },
  {
   "cell_type": "code",
   "execution_count": 7,
   "metadata": {},
   "outputs": [],
   "source": [
    "import pandas as pd\n",
    "crisis_users = pd.DataFrame(my_friends_birthdays)"
   ]
  },
  {
   "cell_type": "code",
   "execution_count": 8,
   "metadata": {},
   "outputs": [],
   "source": [
    "crisis_users['Day'], crisis_users['Month'], crisis_users['Year'] = crisis_users['bdate'].str.split('.').str"
   ]
  },
  {
   "cell_type": "code",
   "execution_count": 9,
   "metadata": {},
   "outputs": [
    {
     "data": {
      "text/html": [
       "<div>\n",
       "<style scoped>\n",
       "    .dataframe tbody tr th:only-of-type {\n",
       "        vertical-align: middle;\n",
       "    }\n",
       "\n",
       "    .dataframe tbody tr th {\n",
       "        vertical-align: top;\n",
       "    }\n",
       "\n",
       "    .dataframe thead th {\n",
       "        text-align: right;\n",
       "    }\n",
       "</style>\n",
       "<table border=\"1\" class=\"dataframe\">\n",
       "  <thead>\n",
       "    <tr style=\"text-align: right;\">\n",
       "      <th></th>\n",
       "      <th>bdate</th>\n",
       "      <th>deactivated</th>\n",
       "      <th>first_name</th>\n",
       "      <th>id</th>\n",
       "      <th>last_name</th>\n",
       "      <th>Day</th>\n",
       "      <th>Month</th>\n",
       "      <th>Year</th>\n",
       "    </tr>\n",
       "  </thead>\n",
       "  <tbody>\n",
       "    <tr>\n",
       "      <th>336</th>\n",
       "      <td>15.12</td>\n",
       "      <td>NaN</td>\n",
       "      <td>Stanislav</td>\n",
       "      <td>4437723</td>\n",
       "      <td>Fokin</td>\n",
       "      <td>15</td>\n",
       "      <td>12</td>\n",
       "      <td>NaN</td>\n",
       "    </tr>\n",
       "    <tr>\n",
       "      <th>385</th>\n",
       "      <td>15.12</td>\n",
       "      <td>NaN</td>\n",
       "      <td>Исаак</td>\n",
       "      <td>5524882</td>\n",
       "      <td>Бадалов</td>\n",
       "      <td>15</td>\n",
       "      <td>12</td>\n",
       "      <td>NaN</td>\n",
       "    </tr>\n",
       "    <tr>\n",
       "      <th>635</th>\n",
       "      <td>15.12</td>\n",
       "      <td>NaN</td>\n",
       "      <td>Александр</td>\n",
       "      <td>12296106</td>\n",
       "      <td>Пузаков</td>\n",
       "      <td>15</td>\n",
       "      <td>12</td>\n",
       "      <td>NaN</td>\n",
       "    </tr>\n",
       "    <tr>\n",
       "      <th>802</th>\n",
       "      <td>15.12</td>\n",
       "      <td>NaN</td>\n",
       "      <td>Dron</td>\n",
       "      <td>19216769</td>\n",
       "      <td>Biruk</td>\n",
       "      <td>15</td>\n",
       "      <td>12</td>\n",
       "      <td>NaN</td>\n",
       "    </tr>\n",
       "    <tr>\n",
       "      <th>1571</th>\n",
       "      <td>15.12</td>\n",
       "      <td>NaN</td>\n",
       "      <td>Нелли</td>\n",
       "      <td>138393410</td>\n",
       "      <td>Адамова</td>\n",
       "      <td>15</td>\n",
       "      <td>12</td>\n",
       "      <td>NaN</td>\n",
       "    </tr>\n",
       "  </tbody>\n",
       "</table>\n",
       "</div>"
      ],
      "text/plain": [
       "      bdate deactivated first_name         id last_name Day Month Year\n",
       "336   15.12         NaN  Stanislav    4437723     Fokin  15    12  NaN\n",
       "385   15.12         NaN      Исаак    5524882   Бадалов  15    12  NaN\n",
       "635   15.12         NaN  Александр   12296106   Пузаков  15    12  NaN\n",
       "802   15.12         NaN       Dron   19216769     Biruk  15    12  NaN\n",
       "1571  15.12         NaN      Нелли  138393410   Адамова  15    12  NaN"
      ]
     },
     "execution_count": 9,
     "metadata": {},
     "output_type": "execute_result"
    }
   ],
   "source": [
    "crisis_users.loc[(crisis_users['Day'].isin(['15','32']))&(crisis_users['Month'] == '12')]"
   ]
  },
  {
   "cell_type": "code",
   "execution_count": null,
   "metadata": {},
   "outputs": [],
   "source": []
  }
 ],
 "metadata": {
  "kernelspec": {
   "display_name": "Python 3",
   "language": "python",
   "name": "python3"
  },
  "language_info": {
   "codemirror_mode": {
    "name": "ipython",
    "version": 3
   },
   "file_extension": ".py",
   "mimetype": "text/x-python",
   "name": "python",
   "nbconvert_exporter": "python",
   "pygments_lexer": "ipython3",
   "version": "3.6.5"
  }
 },
 "nbformat": 4,
 "nbformat_minor": 2
}
